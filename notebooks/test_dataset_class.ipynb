{
 "cells": [
  {
   "cell_type": "code",
   "execution_count": 1,
   "id": "9a0984ac-3b7f-45c2-80f1-f23b81990a95",
   "metadata": {
    "execution": {
     "iopub.execute_input": "2025-03-20T21:22:46.045745Z",
     "iopub.status.busy": "2025-03-20T21:22:46.044787Z",
     "iopub.status.idle": "2025-03-20T21:22:51.002729Z",
     "shell.execute_reply": "2025-03-20T21:22:51.001867Z",
     "shell.execute_reply.started": "2025-03-20T21:22:46.045692Z"
    }
   },
   "outputs": [],
   "source": [
    "import numpy as np\n",
    "import pickle\n",
    "from tess_backml import PACKAGEDIR, Background_Data\n",
    "import matplotlib.pyplot as plt"
   ]
  },
  {
   "cell_type": "code",
   "execution_count": 15,
   "id": "ef8d223c-5cb6-4432-a29d-bdd9e2e51be9",
   "metadata": {
    "execution": {
     "iopub.execute_input": "2025-03-20T21:28:18.267532Z",
     "iopub.status.busy": "2025-03-20T21:28:18.267091Z",
     "iopub.status.idle": "2025-03-20T21:28:18.307604Z",
     "shell.execute_reply": "2025-03-20T21:28:18.306978Z",
     "shell.execute_reply.started": "2025-03-20T21:28:18.267497Z"
    }
   },
   "outputs": [],
   "source": [
    "sector = 2\n",
    "camera = 2\n",
    "ccd = 4"
   ]
  },
  {
   "cell_type": "code",
   "execution_count": 108,
   "id": "fa09f6c3-4f80-47e2-b2c7-7eb32f9197da",
   "metadata": {
    "execution": {
     "iopub.execute_input": "2025-03-21T16:39:28.536449Z",
     "iopub.status.busy": "2025-03-21T16:39:28.536090Z",
     "iopub.status.idle": "2025-03-21T16:39:28.583401Z",
     "shell.execute_reply": "2025-03-21T16:39:28.582351Z",
     "shell.execute_reply.started": "2025-03-21T16:39:28.536423Z"
    }
   },
   "outputs": [
    {
     "name": "stdout",
     "output_type": "stream",
     "text": [
      "TESS FFI Background object (Sector, Camera, CCD, N times): 2, 2, 4, 1245\n"
     ]
    }
   ],
   "source": [
    "bkg_data = Background_Data(\n",
    "        sector=sector, camera=camera, ccd=ccd, img_bin=16, downsize=\"binning\"\n",
    "    )\n",
    "print(bkg_data)"
   ]
  },
  {
   "cell_type": "code",
   "execution_count": null,
   "id": "d8d1fc4c-87b0-48fc-91a6-89f4091b00cc",
   "metadata": {
    "execution": {
     "iopub.execute_input": "2025-03-21T16:39:36.146478Z",
     "iopub.status.busy": "2025-03-21T16:39:36.146044Z"
    }
   },
   "outputs": [
    {
     "name": "stdout",
     "output_type": "stream",
     "text": [
      "Computing sector darkest frames...\n",
      "Computing star mask...\n",
      "Getting FFI flux cube...\n"
     ]
    },
    {
     "name": "stderr",
     "output_type": "stream",
     "text": [
      "  0%|                                                                                        | 0/1245 [00:00<?, ?it/s]/Users/jimartin/Work/TESS/tess-backml/src/tess_backml/database/utils.py:49: RuntimeWarning: All-NaN slice encountered\n",
      "  output_array[i, j] = stat(input_array[start_i:end_i, start_j:end_j])\n",
      " 59%|█████████████████████████████████████████████▋                                | 729/1245 [46:36<35:09,  4.09s/it]"
     ]
    }
   ],
   "source": [
    "bkg_data.get_flux_data()"
   ]
  },
  {
   "cell_type": "code",
   "execution_count": null,
   "id": "cbbfbd88-fbf6-40b0-9900-ca1e8e0a7b54",
   "metadata": {},
   "outputs": [],
   "source": []
  },
  {
   "cell_type": "code",
   "execution_count": null,
   "id": "7af767da-b152-4166-a2e3-94784fd508e3",
   "metadata": {},
   "outputs": [],
   "source": [
    "tess_bkg.get_scatter_light_cube()"
   ]
  },
  {
   "cell_type": "code",
   "execution_count": null,
   "id": "98e7f137-397d-4c39-95a0-064e401acab7",
   "metadata": {},
   "outputs": [],
   "source": [
    "\n",
    "    \n",
    "    \n",
    "    \n",
    "    tess_bkg.get_vector_maps()\n",
    "\n",
    "    fig_dir = f\"{PACKAGEDIR}/data/figures/sector{sector:03}\"\n",
    "    if not os.path.isdir(fig_dir):\n",
    "        os.makedirs(fig_dir)\n",
    "\n",
    "    fig_file = f\"{fig_dir}//ffi_flux_bin{bkg_data.img_bin}_sector{bkg_data.sector:03}_{bkg_data.camera}-{bkg_data.ccd}.gif\"\n",
    "    tess_bkg.animate_flux(file_name=fig_file)\n",
    "\n",
    "    data_dir = f\"{PACKAGEDIR}/data/bkg_data/sector{sector:03}\"\n",
    "    if not os.path.isdir(data_dir):\n",
    "        os.makedirs(data_dir)\n",
    "\n",
    "    out_file = f\"{data_dir}/ffi_cube_bin{bkg_data.img_bin}_sector{bkg_data.sector:03}_{bkg_data.camera}-{bkg_data.ccd}.npz\"\n",
    "    tess_bkg.save_data(out_file=out_file)"
   ]
  }
 ],
 "metadata": {
  "kernelspec": {
   "display_name": "TESS Background",
   "language": "python",
   "name": "tess-bkgml"
  },
  "language_info": {
   "codemirror_mode": {
    "name": "ipython",
    "version": 3
   },
   "file_extension": ".py",
   "mimetype": "text/x-python",
   "name": "python",
   "nbconvert_exporter": "python",
   "pygments_lexer": "ipython3",
   "version": "3.10.16"
  }
 },
 "nbformat": 4,
 "nbformat_minor": 5
}
